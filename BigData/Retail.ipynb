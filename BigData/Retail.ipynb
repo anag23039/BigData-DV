{
 "cells": [
  {
   "cell_type": "code",
   "execution_count": 1,
   "id": "ece0eba9",
   "metadata": {},
   "outputs": [],
   "source": [
    "import pandas as pd\n",
    "import numpy as np\n",
    "import warnings\n",
    "warnings.filterwarnings('ignore')"
   ]
  },
  {
   "cell_type": "code",
   "execution_count": 2,
   "id": "fff8a5a3",
   "metadata": {},
   "outputs": [],
   "source": [
    "retail = pd.read_csv('Retail_Transactions_Dataset.csv')"
   ]
  },
  {
   "cell_type": "code",
   "execution_count": 3,
   "id": "b9a3e1d5",
   "metadata": {},
   "outputs": [
    {
     "data": {
      "text/html": [
       "<div>\n",
       "<style scoped>\n",
       "    .dataframe tbody tr th:only-of-type {\n",
       "        vertical-align: middle;\n",
       "    }\n",
       "\n",
       "    .dataframe tbody tr th {\n",
       "        vertical-align: top;\n",
       "    }\n",
       "\n",
       "    .dataframe thead th {\n",
       "        text-align: right;\n",
       "    }\n",
       "</style>\n",
       "<table border=\"1\" class=\"dataframe\">\n",
       "  <thead>\n",
       "    <tr style=\"text-align: right;\">\n",
       "      <th></th>\n",
       "      <th>Transaction_ID</th>\n",
       "      <th>Date</th>\n",
       "      <th>Customer_Name</th>\n",
       "      <th>Product</th>\n",
       "      <th>Total_Items</th>\n",
       "      <th>Total_Cost</th>\n",
       "      <th>Payment_Method</th>\n",
       "      <th>City</th>\n",
       "      <th>Store_Type</th>\n",
       "      <th>Discount_Applied</th>\n",
       "      <th>Customer_Category</th>\n",
       "      <th>Season</th>\n",
       "      <th>Promotion</th>\n",
       "    </tr>\n",
       "  </thead>\n",
       "  <tbody>\n",
       "    <tr>\n",
       "      <th>0</th>\n",
       "      <td>1000000000</td>\n",
       "      <td>2020-12-21 19:42:52</td>\n",
       "      <td>Cheyenne Newman</td>\n",
       "      <td>['Hair Gel']</td>\n",
       "      <td>6</td>\n",
       "      <td>12.77</td>\n",
       "      <td>Debit Card</td>\n",
       "      <td>New York</td>\n",
       "      <td>Convenience Store</td>\n",
       "      <td>True</td>\n",
       "      <td>Student</td>\n",
       "      <td>Winter</td>\n",
       "      <td>None</td>\n",
       "    </tr>\n",
       "    <tr>\n",
       "      <th>1</th>\n",
       "      <td>1000000001</td>\n",
       "      <td>2020-07-06 07:45:16</td>\n",
       "      <td>Emily Fitzgerald</td>\n",
       "      <td>['Tuna', 'Bread', 'Tissues', 'Trash Bags']</td>\n",
       "      <td>5</td>\n",
       "      <td>13.88</td>\n",
       "      <td>Debit Card</td>\n",
       "      <td>Houston</td>\n",
       "      <td>Supermarket</td>\n",
       "      <td>False</td>\n",
       "      <td>Professional</td>\n",
       "      <td>Fall</td>\n",
       "      <td>BOGO (Buy One Get One)</td>\n",
       "    </tr>\n",
       "    <tr>\n",
       "      <th>2</th>\n",
       "      <td>1000000002</td>\n",
       "      <td>2021-10-02 06:28:44</td>\n",
       "      <td>Michael Webb</td>\n",
       "      <td>['Jam', 'Soap', 'Ketchup']</td>\n",
       "      <td>7</td>\n",
       "      <td>47.02</td>\n",
       "      <td>Debit Card</td>\n",
       "      <td>Miami</td>\n",
       "      <td>Convenience Store</td>\n",
       "      <td>False</td>\n",
       "      <td>Young Adult</td>\n",
       "      <td>Winter</td>\n",
       "      <td>None</td>\n",
       "    </tr>\n",
       "    <tr>\n",
       "      <th>3</th>\n",
       "      <td>1000000003</td>\n",
       "      <td>2022-01-10 05:39:02</td>\n",
       "      <td>Kimberly Lin</td>\n",
       "      <td>['BBQ Sauce']</td>\n",
       "      <td>9</td>\n",
       "      <td>83.86</td>\n",
       "      <td>Mobile Payment</td>\n",
       "      <td>Seattle</td>\n",
       "      <td>Warehouse Club</td>\n",
       "      <td>True</td>\n",
       "      <td>Senior Citizen</td>\n",
       "      <td>Summer</td>\n",
       "      <td>Discount on Selected Items</td>\n",
       "    </tr>\n",
       "    <tr>\n",
       "      <th>4</th>\n",
       "      <td>1000000004</td>\n",
       "      <td>2021-10-13 07:28:47</td>\n",
       "      <td>Cathy Hernandez</td>\n",
       "      <td>['Hand Sanitizer', 'Bread', 'Extension Cords',...</td>\n",
       "      <td>4</td>\n",
       "      <td>30.55</td>\n",
       "      <td>Debit Card</td>\n",
       "      <td>Houston</td>\n",
       "      <td>Warehouse Club</td>\n",
       "      <td>False</td>\n",
       "      <td>Senior Citizen</td>\n",
       "      <td>Spring</td>\n",
       "      <td>None</td>\n",
       "    </tr>\n",
       "  </tbody>\n",
       "</table>\n",
       "</div>"
      ],
      "text/plain": [
       "   Transaction_ID                 Date     Customer_Name  \\\n",
       "0      1000000000  2020-12-21 19:42:52   Cheyenne Newman   \n",
       "1      1000000001  2020-07-06 07:45:16  Emily Fitzgerald   \n",
       "2      1000000002  2021-10-02 06:28:44      Michael Webb   \n",
       "3      1000000003  2022-01-10 05:39:02      Kimberly Lin   \n",
       "4      1000000004  2021-10-13 07:28:47   Cathy Hernandez   \n",
       "\n",
       "                                             Product  Total_Items  Total_Cost  \\\n",
       "0                                       ['Hair Gel']            6       12.77   \n",
       "1         ['Tuna', 'Bread', 'Tissues', 'Trash Bags']            5       13.88   \n",
       "2                         ['Jam', 'Soap', 'Ketchup']            7       47.02   \n",
       "3                                      ['BBQ Sauce']            9       83.86   \n",
       "4  ['Hand Sanitizer', 'Bread', 'Extension Cords',...            4       30.55   \n",
       "\n",
       "   Payment_Method      City         Store_Type  Discount_Applied  \\\n",
       "0      Debit Card  New York  Convenience Store              True   \n",
       "1      Debit Card   Houston        Supermarket             False   \n",
       "2      Debit Card     Miami  Convenience Store             False   \n",
       "3  Mobile Payment   Seattle     Warehouse Club              True   \n",
       "4      Debit Card   Houston     Warehouse Club             False   \n",
       "\n",
       "  Customer_Category  Season                   Promotion  \n",
       "0           Student  Winter                        None  \n",
       "1      Professional    Fall      BOGO (Buy One Get One)  \n",
       "2       Young Adult  Winter                        None  \n",
       "3    Senior Citizen  Summer  Discount on Selected Items  \n",
       "4    Senior Citizen  Spring                        None  "
      ]
     },
     "execution_count": 3,
     "metadata": {},
     "output_type": "execute_result"
    }
   ],
   "source": [
    "retail.head()"
   ]
  },
  {
   "cell_type": "code",
   "execution_count": 4,
   "id": "ca2ff577",
   "metadata": {},
   "outputs": [
    {
     "data": {
      "text/plain": [
       "Transaction_ID         int64\n",
       "Date                  object\n",
       "Customer_Name         object\n",
       "Product               object\n",
       "Total_Items            int64\n",
       "Total_Cost           float64\n",
       "Payment_Method        object\n",
       "City                  object\n",
       "Store_Type            object\n",
       "Discount_Applied        bool\n",
       "Customer_Category     object\n",
       "Season                object\n",
       "Promotion             object\n",
       "dtype: object"
      ]
     },
     "execution_count": 4,
     "metadata": {},
     "output_type": "execute_result"
    }
   ],
   "source": [
    "retail.dtypes"
   ]
  },
  {
   "cell_type": "code",
   "execution_count": 5,
   "id": "8cce658c",
   "metadata": {
    "scrolled": true
   },
   "outputs": [
    {
     "name": "stdout",
     "output_type": "stream",
     "text": [
      "<class 'pandas.core.frame.DataFrame'>\n",
      "RangeIndex: 30000 entries, 0 to 29999\n",
      "Data columns (total 13 columns):\n",
      " #   Column             Non-Null Count  Dtype  \n",
      "---  ------             --------------  -----  \n",
      " 0   Transaction_ID     30000 non-null  int64  \n",
      " 1   Date               30000 non-null  object \n",
      " 2   Customer_Name      30000 non-null  object \n",
      " 3   Product            30000 non-null  object \n",
      " 4   Total_Items        30000 non-null  int64  \n",
      " 5   Total_Cost         30000 non-null  float64\n",
      " 6   Payment_Method     30000 non-null  object \n",
      " 7   City               30000 non-null  object \n",
      " 8   Store_Type         30000 non-null  object \n",
      " 9   Discount_Applied   30000 non-null  bool   \n",
      " 10  Customer_Category  30000 non-null  object \n",
      " 11  Season             30000 non-null  object \n",
      " 12  Promotion          30000 non-null  object \n",
      "dtypes: bool(1), float64(1), int64(2), object(9)\n",
      "memory usage: 2.8+ MB\n"
     ]
    }
   ],
   "source": [
    "retail.info()"
   ]
  },
  {
   "cell_type": "code",
   "execution_count": 6,
   "id": "490bc77d",
   "metadata": {},
   "outputs": [],
   "source": [
    "retail_reduced = retail.iloc[:5000]"
   ]
  },
  {
   "cell_type": "code",
   "execution_count": 7,
   "id": "dbaff79b",
   "metadata": {},
   "outputs": [],
   "source": [
    "retail_reduced.to_csv('retail.csv', index=False)"
   ]
  }
 ],
 "metadata": {
  "kernelspec": {
   "display_name": "Python 3 (ipykernel)",
   "language": "python",
   "name": "python3"
  },
  "language_info": {
   "codemirror_mode": {
    "name": "ipython",
    "version": 3
   },
   "file_extension": ".py",
   "mimetype": "text/x-python",
   "name": "python",
   "nbconvert_exporter": "python",
   "pygments_lexer": "ipython3",
   "version": "3.10.9"
  }
 },
 "nbformat": 4,
 "nbformat_minor": 5
}
