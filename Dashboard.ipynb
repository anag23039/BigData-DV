{
 "cells": [
  {
   "cell_type": "code",
   "execution_count": 1,
   "id": "3a06d78c",
   "metadata": {},
   "outputs": [],
   "source": [
    "import pandas as pd\n",
    "import plotly.express as px \n",
    "import streamlit as st\n",
    "import warnings\n",
    "import numpy as np\n",
    "warnings.filterwarnings('ignore')\n",
    "from bokeh.plotting import figure, show\n",
    "from bokeh.models import ColumnDataSource, HoverTool, NumeralTickFormatter\n",
    "from bokeh.transform import factor_cmap\n",
    "from bokeh.transform import linear_cmap\n",
    "from sklearn.preprocessing import LabelEncoder, MinMaxScaler, StandardScaler, OneHotEncoder\n",
    "import plotly.graph_objects as go\n",
    "from bokeh.palettes import Spectral10\n",
    "import datetime\n",
    "from bokeh.transform import jitter"
   ]
  },
  {
   "cell_type": "code",
   "execution_count": 2,
   "id": "17870340",
   "metadata": {},
   "outputs": [],
   "source": [
    "df = pd.read_csv(\"churn.csv\", encoding = \"ISO-8859-1\")"
   ]
  },
  {
   "cell_type": "code",
   "execution_count": 3,
   "id": "f9da6f10",
   "metadata": {},
   "outputs": [
    {
     "data": {
      "text/html": [
       "<div>\n",
       "<style scoped>\n",
       "    .dataframe tbody tr th:only-of-type {\n",
       "        vertical-align: middle;\n",
       "    }\n",
       "\n",
       "    .dataframe tbody tr th {\n",
       "        vertical-align: top;\n",
       "    }\n",
       "\n",
       "    .dataframe thead th {\n",
       "        text-align: right;\n",
       "    }\n",
       "</style>\n",
       "<table border=\"1\" class=\"dataframe\">\n",
       "  <thead>\n",
       "    <tr style=\"text-align: right;\">\n",
       "      <th></th>\n",
       "      <th>ExistingLost</th>\n",
       "      <th>Age</th>\n",
       "      <th>Gender</th>\n",
       "      <th>Dependent</th>\n",
       "      <th>Education</th>\n",
       "      <th>Marital</th>\n",
       "      <th>Income</th>\n",
       "      <th>CardCat</th>\n",
       "      <th>PeriodOfRelationship</th>\n",
       "      <th>TotalNumberProducts</th>\n",
       "      <th>MonthsInactive</th>\n",
       "      <th>ContactsCount</th>\n",
       "      <th>CreditLimit</th>\n",
       "      <th>TotalBal</th>\n",
       "      <th>AvgOpenToBuy</th>\n",
       "      <th>ChangeTransAmountQ4Q1</th>\n",
       "      <th>TotalTransAmt</th>\n",
       "      <th>TotalTransCountQ4Q1</th>\n",
       "      <th>ChangeTransCountQ4Q1</th>\n",
       "      <th>UtilRatio</th>\n",
       "    </tr>\n",
       "  </thead>\n",
       "  <tbody>\n",
       "    <tr>\n",
       "      <th>0</th>\n",
       "      <td>Existing Customer</td>\n",
       "      <td>45</td>\n",
       "      <td>M</td>\n",
       "      <td>3</td>\n",
       "      <td>High School</td>\n",
       "      <td>Married</td>\n",
       "      <td>$60K - $80K</td>\n",
       "      <td>Blue</td>\n",
       "      <td>39</td>\n",
       "      <td>5</td>\n",
       "      <td>1</td>\n",
       "      <td>3</td>\n",
       "      <td>12691.0</td>\n",
       "      <td>777</td>\n",
       "      <td>11914.0</td>\n",
       "      <td>1.335</td>\n",
       "      <td>1144</td>\n",
       "      <td>42</td>\n",
       "      <td>1.625</td>\n",
       "      <td>0.061</td>\n",
       "    </tr>\n",
       "    <tr>\n",
       "      <th>1</th>\n",
       "      <td>Existing Customer</td>\n",
       "      <td>49</td>\n",
       "      <td>F</td>\n",
       "      <td>5</td>\n",
       "      <td>Graduate</td>\n",
       "      <td>Single</td>\n",
       "      <td>Less than $40K</td>\n",
       "      <td>Blue</td>\n",
       "      <td>44</td>\n",
       "      <td>6</td>\n",
       "      <td>1</td>\n",
       "      <td>2</td>\n",
       "      <td>8256.0</td>\n",
       "      <td>864</td>\n",
       "      <td>7392.0</td>\n",
       "      <td>1.541</td>\n",
       "      <td>1291</td>\n",
       "      <td>33</td>\n",
       "      <td>3.714</td>\n",
       "      <td>0.105</td>\n",
       "    </tr>\n",
       "    <tr>\n",
       "      <th>2</th>\n",
       "      <td>Existing Customer</td>\n",
       "      <td>51</td>\n",
       "      <td>M</td>\n",
       "      <td>3</td>\n",
       "      <td>Graduate</td>\n",
       "      <td>Married</td>\n",
       "      <td>$80K - $120K</td>\n",
       "      <td>Blue</td>\n",
       "      <td>36</td>\n",
       "      <td>4</td>\n",
       "      <td>1</td>\n",
       "      <td>0</td>\n",
       "      <td>3418.0</td>\n",
       "      <td>0</td>\n",
       "      <td>3418.0</td>\n",
       "      <td>2.594</td>\n",
       "      <td>1887</td>\n",
       "      <td>20</td>\n",
       "      <td>2.333</td>\n",
       "      <td>0.000</td>\n",
       "    </tr>\n",
       "    <tr>\n",
       "      <th>3</th>\n",
       "      <td>Existing Customer</td>\n",
       "      <td>40</td>\n",
       "      <td>M</td>\n",
       "      <td>3</td>\n",
       "      <td>Uneducated</td>\n",
       "      <td>Married</td>\n",
       "      <td>$60K - $80K</td>\n",
       "      <td>Blue</td>\n",
       "      <td>21</td>\n",
       "      <td>5</td>\n",
       "      <td>1</td>\n",
       "      <td>0</td>\n",
       "      <td>4716.0</td>\n",
       "      <td>0</td>\n",
       "      <td>4716.0</td>\n",
       "      <td>2.175</td>\n",
       "      <td>816</td>\n",
       "      <td>28</td>\n",
       "      <td>2.500</td>\n",
       "      <td>0.000</td>\n",
       "    </tr>\n",
       "    <tr>\n",
       "      <th>4</th>\n",
       "      <td>Existing Customer</td>\n",
       "      <td>44</td>\n",
       "      <td>M</td>\n",
       "      <td>2</td>\n",
       "      <td>Graduate</td>\n",
       "      <td>Married</td>\n",
       "      <td>$40K - $60K</td>\n",
       "      <td>Blue</td>\n",
       "      <td>36</td>\n",
       "      <td>3</td>\n",
       "      <td>1</td>\n",
       "      <td>2</td>\n",
       "      <td>4010.0</td>\n",
       "      <td>1247</td>\n",
       "      <td>2763.0</td>\n",
       "      <td>1.376</td>\n",
       "      <td>1088</td>\n",
       "      <td>24</td>\n",
       "      <td>0.846</td>\n",
       "      <td>0.311</td>\n",
       "    </tr>\n",
       "  </tbody>\n",
       "</table>\n",
       "</div>"
      ],
      "text/plain": [
       "        ExistingLost  Age Gender  Dependent    Education  Marital  \\\n",
       "0  Existing Customer   45      M          3  High School  Married   \n",
       "1  Existing Customer   49      F          5     Graduate   Single   \n",
       "2  Existing Customer   51      M          3     Graduate  Married   \n",
       "3  Existing Customer   40      M          3   Uneducated  Married   \n",
       "4  Existing Customer   44      M          2     Graduate  Married   \n",
       "\n",
       "           Income CardCat  PeriodOfRelationship  TotalNumberProducts  \\\n",
       "0     $60K - $80K    Blue                    39                    5   \n",
       "1  Less than $40K    Blue                    44                    6   \n",
       "2    $80K - $120K    Blue                    36                    4   \n",
       "3     $60K - $80K    Blue                    21                    5   \n",
       "4     $40K - $60K    Blue                    36                    3   \n",
       "\n",
       "   MonthsInactive  ContactsCount  CreditLimit  TotalBal  AvgOpenToBuy  \\\n",
       "0               1              3      12691.0       777       11914.0   \n",
       "1               1              2       8256.0       864        7392.0   \n",
       "2               1              0       3418.0         0        3418.0   \n",
       "3               1              0       4716.0         0        4716.0   \n",
       "4               1              2       4010.0      1247        2763.0   \n",
       "\n",
       "   ChangeTransAmountQ4Q1  TotalTransAmt  TotalTransCountQ4Q1  \\\n",
       "0                  1.335           1144                   42   \n",
       "1                  1.541           1291                   33   \n",
       "2                  2.594           1887                   20   \n",
       "3                  2.175            816                   28   \n",
       "4                  1.376           1088                   24   \n",
       "\n",
       "   ChangeTransCountQ4Q1  UtilRatio  \n",
       "0                 1.625      0.061  \n",
       "1                 3.714      0.105  \n",
       "2                 2.333      0.000  \n",
       "3                 2.500      0.000  \n",
       "4                 0.846      0.311  "
      ]
     },
     "execution_count": 3,
     "metadata": {},
     "output_type": "execute_result"
    }
   ],
   "source": [
    "df.head()"
   ]
  },
  {
   "cell_type": "code",
   "execution_count": 4,
   "id": "23a195a0",
   "metadata": {},
   "outputs": [
    {
     "data": {
      "text/html": [
       "<div>\n",
       "<style scoped>\n",
       "    .dataframe tbody tr th:only-of-type {\n",
       "        vertical-align: middle;\n",
       "    }\n",
       "\n",
       "    .dataframe tbody tr th {\n",
       "        vertical-align: top;\n",
       "    }\n",
       "\n",
       "    .dataframe thead th {\n",
       "        text-align: right;\n",
       "    }\n",
       "</style>\n",
       "<table border=\"1\" class=\"dataframe\">\n",
       "  <thead>\n",
       "    <tr style=\"text-align: right;\">\n",
       "      <th></th>\n",
       "      <th>Age</th>\n",
       "      <th>Dependent</th>\n",
       "      <th>PeriodOfRelationship</th>\n",
       "      <th>TotalNumberProducts</th>\n",
       "      <th>MonthsInactive</th>\n",
       "      <th>ContactsCount</th>\n",
       "      <th>CreditLimit</th>\n",
       "      <th>TotalBal</th>\n",
       "      <th>AvgOpenToBuy</th>\n",
       "      <th>ChangeTransAmountQ4Q1</th>\n",
       "      <th>TotalTransAmt</th>\n",
       "      <th>TotalTransCountQ4Q1</th>\n",
       "      <th>ChangeTransCountQ4Q1</th>\n",
       "      <th>UtilRatio</th>\n",
       "    </tr>\n",
       "  </thead>\n",
       "  <tbody>\n",
       "    <tr>\n",
       "      <th>count</th>\n",
       "      <td>7081.000000</td>\n",
       "      <td>7081.000000</td>\n",
       "      <td>7081.000000</td>\n",
       "      <td>7081.000000</td>\n",
       "      <td>7081.000000</td>\n",
       "      <td>7081.000000</td>\n",
       "      <td>7081.000000</td>\n",
       "      <td>7081.000000</td>\n",
       "      <td>7081.000000</td>\n",
       "      <td>7081.000000</td>\n",
       "      <td>7081.000000</td>\n",
       "      <td>7081.000000</td>\n",
       "      <td>7081.000000</td>\n",
       "      <td>7081.000000</td>\n",
       "    </tr>\n",
       "    <tr>\n",
       "      <th>mean</th>\n",
       "      <td>46.347691</td>\n",
       "      <td>2.337805</td>\n",
       "      <td>35.981359</td>\n",
       "      <td>3.819376</td>\n",
       "      <td>2.342607</td>\n",
       "      <td>2.454456</td>\n",
       "      <td>8492.773831</td>\n",
       "      <td>1167.501624</td>\n",
       "      <td>7325.272207</td>\n",
       "      <td>0.760584</td>\n",
       "      <td>4394.299816</td>\n",
       "      <td>64.503319</td>\n",
       "      <td>0.711508</td>\n",
       "      <td>0.282313</td>\n",
       "    </tr>\n",
       "    <tr>\n",
       "      <th>std</th>\n",
       "      <td>8.041225</td>\n",
       "      <td>1.291649</td>\n",
       "      <td>8.002609</td>\n",
       "      <td>1.544444</td>\n",
       "      <td>0.995104</td>\n",
       "      <td>1.104917</td>\n",
       "      <td>9126.072520</td>\n",
       "      <td>812.315606</td>\n",
       "      <td>9131.217585</td>\n",
       "      <td>0.223139</td>\n",
       "      <td>3468.461606</td>\n",
       "      <td>23.809330</td>\n",
       "      <td>0.238693</td>\n",
       "      <td>0.278731</td>\n",
       "    </tr>\n",
       "    <tr>\n",
       "      <th>min</th>\n",
       "      <td>26.000000</td>\n",
       "      <td>0.000000</td>\n",
       "      <td>13.000000</td>\n",
       "      <td>1.000000</td>\n",
       "      <td>0.000000</td>\n",
       "      <td>0.000000</td>\n",
       "      <td>1438.300000</td>\n",
       "      <td>0.000000</td>\n",
       "      <td>3.000000</td>\n",
       "      <td>0.000000</td>\n",
       "      <td>510.000000</td>\n",
       "      <td>10.000000</td>\n",
       "      <td>0.000000</td>\n",
       "      <td>0.000000</td>\n",
       "    </tr>\n",
       "    <tr>\n",
       "      <th>25%</th>\n",
       "      <td>41.000000</td>\n",
       "      <td>1.000000</td>\n",
       "      <td>31.000000</td>\n",
       "      <td>3.000000</td>\n",
       "      <td>2.000000</td>\n",
       "      <td>2.000000</td>\n",
       "      <td>2498.000000</td>\n",
       "      <td>463.000000</td>\n",
       "      <td>1248.000000</td>\n",
       "      <td>0.629000</td>\n",
       "      <td>2089.000000</td>\n",
       "      <td>44.000000</td>\n",
       "      <td>0.583000</td>\n",
       "      <td>0.026000</td>\n",
       "    </tr>\n",
       "    <tr>\n",
       "      <th>50%</th>\n",
       "      <td>46.000000</td>\n",
       "      <td>2.000000</td>\n",
       "      <td>36.000000</td>\n",
       "      <td>4.000000</td>\n",
       "      <td>2.000000</td>\n",
       "      <td>2.000000</td>\n",
       "      <td>4287.000000</td>\n",
       "      <td>1282.000000</td>\n",
       "      <td>3250.000000</td>\n",
       "      <td>0.735000</td>\n",
       "      <td>3831.000000</td>\n",
       "      <td>67.000000</td>\n",
       "      <td>0.700000</td>\n",
       "      <td>0.186000</td>\n",
       "    </tr>\n",
       "    <tr>\n",
       "      <th>75%</th>\n",
       "      <td>52.000000</td>\n",
       "      <td>3.000000</td>\n",
       "      <td>40.000000</td>\n",
       "      <td>5.000000</td>\n",
       "      <td>3.000000</td>\n",
       "      <td>3.000000</td>\n",
       "      <td>10729.000000</td>\n",
       "      <td>1781.000000</td>\n",
       "      <td>9491.000000</td>\n",
       "      <td>0.858000</td>\n",
       "      <td>4740.000000</td>\n",
       "      <td>80.000000</td>\n",
       "      <td>0.818000</td>\n",
       "      <td>0.515000</td>\n",
       "    </tr>\n",
       "    <tr>\n",
       "      <th>max</th>\n",
       "      <td>73.000000</td>\n",
       "      <td>5.000000</td>\n",
       "      <td>56.000000</td>\n",
       "      <td>6.000000</td>\n",
       "      <td>6.000000</td>\n",
       "      <td>6.000000</td>\n",
       "      <td>34516.000000</td>\n",
       "      <td>2517.000000</td>\n",
       "      <td>34516.000000</td>\n",
       "      <td>3.397000</td>\n",
       "      <td>17995.000000</td>\n",
       "      <td>134.000000</td>\n",
       "      <td>3.714000</td>\n",
       "      <td>0.999000</td>\n",
       "    </tr>\n",
       "  </tbody>\n",
       "</table>\n",
       "</div>"
      ],
      "text/plain": [
       "               Age    Dependent  PeriodOfRelationship  TotalNumberProducts  \\\n",
       "count  7081.000000  7081.000000           7081.000000          7081.000000   \n",
       "mean     46.347691     2.337805             35.981359             3.819376   \n",
       "std       8.041225     1.291649              8.002609             1.544444   \n",
       "min      26.000000     0.000000             13.000000             1.000000   \n",
       "25%      41.000000     1.000000             31.000000             3.000000   \n",
       "50%      46.000000     2.000000             36.000000             4.000000   \n",
       "75%      52.000000     3.000000             40.000000             5.000000   \n",
       "max      73.000000     5.000000             56.000000             6.000000   \n",
       "\n",
       "       MonthsInactive  ContactsCount   CreditLimit     TotalBal  AvgOpenToBuy  \\\n",
       "count     7081.000000    7081.000000   7081.000000  7081.000000   7081.000000   \n",
       "mean         2.342607       2.454456   8492.773831  1167.501624   7325.272207   \n",
       "std          0.995104       1.104917   9126.072520   812.315606   9131.217585   \n",
       "min          0.000000       0.000000   1438.300000     0.000000      3.000000   \n",
       "25%          2.000000       2.000000   2498.000000   463.000000   1248.000000   \n",
       "50%          2.000000       2.000000   4287.000000  1282.000000   3250.000000   \n",
       "75%          3.000000       3.000000  10729.000000  1781.000000   9491.000000   \n",
       "max          6.000000       6.000000  34516.000000  2517.000000  34516.000000   \n",
       "\n",
       "       ChangeTransAmountQ4Q1  TotalTransAmt  TotalTransCountQ4Q1  \\\n",
       "count            7081.000000    7081.000000          7081.000000   \n",
       "mean                0.760584    4394.299816            64.503319   \n",
       "std                 0.223139    3468.461606            23.809330   \n",
       "min                 0.000000     510.000000            10.000000   \n",
       "25%                 0.629000    2089.000000            44.000000   \n",
       "50%                 0.735000    3831.000000            67.000000   \n",
       "75%                 0.858000    4740.000000            80.000000   \n",
       "max                 3.397000   17995.000000           134.000000   \n",
       "\n",
       "       ChangeTransCountQ4Q1    UtilRatio  \n",
       "count           7081.000000  7081.000000  \n",
       "mean               0.711508     0.282313  \n",
       "std                0.238693     0.278731  \n",
       "min                0.000000     0.000000  \n",
       "25%                0.583000     0.026000  \n",
       "50%                0.700000     0.186000  \n",
       "75%                0.818000     0.515000  \n",
       "max                3.714000     0.999000  "
      ]
     },
     "execution_count": 4,
     "metadata": {},
     "output_type": "execute_result"
    }
   ],
   "source": [
    "df.describe()"
   ]
  },
  {
   "cell_type": "code",
   "execution_count": 5,
   "id": "2229990b",
   "metadata": {},
   "outputs": [
    {
     "name": "stdout",
     "output_type": "stream",
     "text": [
      "<class 'pandas.core.frame.DataFrame'>\n",
      "RangeIndex: 7081 entries, 0 to 7080\n",
      "Data columns (total 20 columns):\n",
      " #   Column                 Non-Null Count  Dtype  \n",
      "---  ------                 --------------  -----  \n",
      " 0   ExistingLost           7081 non-null   object \n",
      " 1   Age                    7081 non-null   int64  \n",
      " 2   Gender                 7081 non-null   object \n",
      " 3   Dependent              7081 non-null   int64  \n",
      " 4   Education              7081 non-null   object \n",
      " 5   Marital                7081 non-null   object \n",
      " 6   Income                 7081 non-null   object \n",
      " 7   CardCat                7081 non-null   object \n",
      " 8   PeriodOfRelationship   7081 non-null   int64  \n",
      " 9   TotalNumberProducts    7081 non-null   int64  \n",
      " 10  MonthsInactive         7081 non-null   int64  \n",
      " 11  ContactsCount          7081 non-null   int64  \n",
      " 12  CreditLimit            7081 non-null   float64\n",
      " 13  TotalBal               7081 non-null   int64  \n",
      " 14  AvgOpenToBuy           7081 non-null   float64\n",
      " 15  ChangeTransAmountQ4Q1  7081 non-null   float64\n",
      " 16  TotalTransAmt          7081 non-null   int64  \n",
      " 17  TotalTransCountQ4Q1    7081 non-null   int64  \n",
      " 18  ChangeTransCountQ4Q1   7081 non-null   float64\n",
      " 19  UtilRatio              7081 non-null   float64\n",
      "dtypes: float64(5), int64(9), object(6)\n",
      "memory usage: 1.1+ MB\n"
     ]
    }
   ],
   "source": [
    "df.info()"
   ]
  },
  {
   "cell_type": "code",
   "execution_count": 6,
   "id": "cc911a5b",
   "metadata": {},
   "outputs": [],
   "source": [
    "st.set_page_config(page_title = \"Churning customers\", page_icon = \":credit_card:\", layout = \"wide\")"
   ]
  },
  {
   "cell_type": "code",
   "execution_count": 7,
   "id": "cbb4272b",
   "metadata": {},
   "outputs": [
    {
     "name": "stderr",
     "output_type": "stream",
     "text": [
      "2023-11-22 01:06:04.950 \n",
      "  \u001b[33m\u001b[1mWarning:\u001b[0m to view this Streamlit app on a browser, run it with the following\n",
      "  command:\n",
      "\n",
      "    streamlit run /Users/annageorgieva/anaconda3/lib/python3.10/site-packages/ipykernel_launcher.py [ARGUMENTS]\n"
     ]
    }
   ],
   "source": [
    "st.title(\":credit_card: Credit Card Churning Customers Analysis\")\n",
    "st.markdown('<style>div.block-container{padding-top:1rem;}</style>', unsafe_allow_html=True)\n",
    "box_date = str(datetime.datetime.now().strftime(\"%d %B %Y\"))\n",
    "st.write(f\"Last updated by:  \\n {box_date}\")"
   ]
  },
  {
   "cell_type": "code",
   "execution_count": 8,
   "id": "61c70c42",
   "metadata": {},
   "outputs": [],
   "source": [
    "fl = st.file_uploader(\":file_folder: Upload a file\", type=([\"csv\", \"txt\", \"xlsx\", \"xls\"]))\n",
    "if fl is not None:\n",
    "    filename = fl.name\n",
    "    st.write(filename)\n",
    "    df = pd.read_csv(filename, encoding = \"ISO-8859-1\")\n",
    "else:\n",
    "    df = pd.read_csv(\"churn.csv\", encoding = \"ISO-8859-1\")"
   ]
  },
  {
   "cell_type": "code",
   "execution_count": 9,
   "id": "f4f947fa",
   "metadata": {},
   "outputs": [
    {
     "data": {
      "text/plain": [
       "DeltaGenerator()"
      ]
     },
     "execution_count": 9,
     "metadata": {},
     "output_type": "execute_result"
    }
   ],
   "source": [
    "st.divider()"
   ]
  },
  {
   "cell_type": "code",
   "execution_count": 10,
   "id": "6c4748b9",
   "metadata": {},
   "outputs": [],
   "source": [
    "# Create columns with a custom layout, including 'spacer' columns\n",
    "col2, spacer, col3 = st.columns([3, 1.05, 3])"
   ]
  },
  {
   "cell_type": "code",
   "execution_count": 11,
   "id": "ffa1b0b7",
   "metadata": {},
   "outputs": [],
   "source": [
    "# Title for the sidebar\n",
    "st.sidebar.header('Choose your filter:')\n",
    "\n",
    "# Define categories and corresponding colors\n",
    "categories = ['Attrited Customer', 'Existing Customer']\n",
    "category_colors = ['#5E18EB', '#A579FF']\n",
    "color_mapping = {'Attrited Customer': category_colors[0], 'Existing Customer': category_colors[1]}\n",
    "\n",
    "# List of all columns for which you want to create filters\n",
    "all_columns = ['Gender', 'Education', 'Marital', 'Income', 'CardCat', 'MonthsInactive',\n",
    "               'Age', 'Dependent', 'PeriodOfRelationship', 'TotalNumberProducts',\n",
    "               'ContactsCount', 'CreditLimit', 'TotalBal', 'AvgOpenToBuy',\n",
    "               'ChangeTransAmountQ4Q1', 'TotalTransAmt', 'TotalTransCountQ4Q1',\n",
    "               'ChangeTransCountQ4Q1', 'UtilRatio']\n",
    "\n",
    "# Let the user select a column to plot\n",
    "chosen_col = st.sidebar.selectbox('Select a column to plot', all_columns)\n",
    "\n",
    "# Create filters in the sidebar\n",
    "selected_filters = {}\n",
    "for col in all_columns:\n",
    "    if df[col].dtype == 'object':\n",
    "        # Use multiselect for categorical columns\n",
    "        selected_filters[col] = st.sidebar.multiselect(f'Select {col}', df[col].unique())\n",
    "    else:\n",
    "        # Use sliders for numerical columns\n",
    "        min_val = df[col].min()\n",
    "        max_val = df[col].max()\n",
    "        selected_filters[col] = st.sidebar.slider(f'Select range for {col}', min_val, max_val, (min_val, max_val))\n",
    "\n",
    "# Filtering the dataframe based on the selections\n",
    "filtered_df = df.copy()\n",
    "for col, values in selected_filters.items():\n",
    "    if isinstance(values, list) and values:  # For categorical filters\n",
    "        filtered_df = filtered_df[filtered_df[col].isin(values)]\n",
    "    elif isinstance(values, tuple):  # For numerical filters\n",
    "        filtered_df = filtered_df[filtered_df[col].between(values[0], values[1])]\n",
    "\n",
    "# Create a container for the plot\n",
    "plot_container = st.container()\n",
    "\n",
    "with col2:\n",
    "    # Custom HTML for the title with larger font size and bold text\n",
    "    st.markdown(\"\"\"\n",
    "    <style>\n",
    "    .title {\n",
    "        font-size: small; \n",
    "        font-weight: bold;\n",
    "    }\n",
    "    </style>\n",
    "    <div class=\"title\">Customize Your Analysis: Select Variables to Compare Results</div>\n",
    "    \"\"\", unsafe_allow_html=True)    \n",
    "\n",
    "    # Create and display the count plot if a column is selected\n",
    "    if chosen_col:\n",
    "        fig = px.histogram(filtered_df, x=chosen_col, color='ExistingLost',\n",
    "                           color_discrete_map=color_mapping,\n",
    "                           title=f'Count of ExistingLost for {chosen_col}')\n",
    "        fig.update_layout(title_text='')\n",
    "        st.plotly_chart(fig)\n",
    "    else:\n",
    "        st.write(\"Please select a column for plotting.\")"
   ]
  },
  {
   "cell_type": "code",
   "execution_count": 12,
   "id": "0c868e2a",
   "metadata": {},
   "outputs": [],
   "source": [
    "# Convert 'ExistingLost' to a numeric value: for example, 'Existing Customer' to 1, and 'Lost' to 0\n",
    "df['CurrentChurned'] = df['ExistingLost'].apply(lambda x: 1 if x == 'Existing Customer' else 0)\n",
    "\n",
    "# Now include this new numeric column in your correlation matrix calculation\n",
    "corr_matrix = df[['CurrentChurned', 'Age', 'PeriodOfRelationship', 'TotalNumberProducts', 'MonthsInactive', \n",
    "                  'ContactsCount', 'CreditLimit', 'TotalBal', 'AvgOpenToBuy', \n",
    "                  'ChangeTransAmountQ4Q1', 'TotalTransAmt', 'TotalTransCountQ4Q1', \n",
    "                  'ChangeTransCountQ4Q1', 'UtilRatio']].corr()\n",
    "\n",
    "# Custom color scale\n",
    "color_scale = [\n",
    "    [0, '#A579FF'],  \n",
    "    [1, '#5E18EB']   \n",
    "]\n",
    "\n",
    "# Generate the heatmap\n",
    "fig = px.imshow(corr_matrix, \n",
    "                x=corr_matrix.columns, \n",
    "                y=corr_matrix.columns, \n",
    "                color_continuous_scale=color_scale,\n",
    "                text_auto=True, \n",
    "                aspect=\"auto\")\n",
    "\n",
    "fig.update_layout(coloraxis_colorbar=dict(\n",
    "    title='Correlation',\n",
    "    tickvals=[-1, 1], \n",
    "    ticktext=['Minimum', 'Maximum'],\n",
    "    lenmode='fraction', \n",
    "    len=1\n",
    "))\n",
    "\n",
    "with col3:\n",
    "    # Custom HTML for the title with larger font size and bold text\n",
    "    st.markdown(\"\"\"\n",
    "    <style>\n",
    "    .title {\n",
    "        font-size: small; \n",
    "        font-weight: bold;\n",
    "    }\n",
    "    </style>\n",
    "    <div class=\"title\">Correlation Matrix of Credit Card Customer Attributes</div>\n",
    "    \"\"\", unsafe_allow_html=True)\n",
    "    \n",
    "    st.plotly_chart(fig)"
   ]
  },
  {
   "cell_type": "code",
   "execution_count": 13,
   "id": "4227c930",
   "metadata": {},
   "outputs": [
    {
     "data": {
      "text/plain": [
       "DeltaGenerator()"
      ]
     },
     "execution_count": 13,
     "metadata": {},
     "output_type": "execute_result"
    }
   ],
   "source": [
    "st.divider()"
   ]
  },
  {
   "cell_type": "code",
   "execution_count": 14,
   "id": "6e600a27",
   "metadata": {},
   "outputs": [],
   "source": [
    "# Convert 'MonthsInactive' to string if treating as categorical\n",
    "df['MonthsInactive'] = df['MonthsInactive'].astype(str)\n",
    "\n",
    "# Manually create a jitter effect\n",
    "df['JitteredMonthsInactive'] = df['MonthsInactive'].apply(lambda x: float(x) + np.random.uniform(-0.3, 0.3))\n",
    "\n",
    "# Create the Plotly scatter plot\n",
    "fig = px.scatter(df, \n",
    "                 x='PeriodOfRelationship', \n",
    "                 y='JitteredMonthsInactive', \n",
    "                 color='ExistingLost',\n",
    "                 labels={'JitteredMonthsInactive': 'Months Inactive'},\n",
    "                 title=\"Customer Relationship Analysis\",\n",
    "                 color_discrete_sequence=['#A579FF', '#5E18EB'])\n",
    "\n",
    "# Customize the hover data\n",
    "fig.update_traces(hovertemplate=\"Churn Status: %{color}<br>Period of Relationship: %{x}<br>Months Inactive: %{y}\")\n",
    "fig.update_layout(title_text='')\n",
    "\n",
    "# Customize the layout\n",
    "fig.update_layout(legend_title_text='Churn Status')\n",
    "\n",
    "with col2:\n",
    "    # Custom HTML for the title with larger font size and bold text\n",
    "    st.markdown(\"\"\"\n",
    "    <style>\n",
    "    .title {\n",
    "        font-size: small; \n",
    "        font-weight: bold;\n",
    "    }\n",
    "    </style>\n",
    "    <div class=\"title\">Customer relationship analysis</div>\n",
    "    \"\"\", unsafe_allow_html=True)\n",
    "    \n",
    "    st.plotly_chart(fig)"
   ]
  },
  {
   "cell_type": "code",
   "execution_count": 15,
   "id": "fbe24122",
   "metadata": {},
   "outputs": [],
   "source": [
    "# Define categories and corresponding colors\n",
    "categories = ['Attrited Customer', 'Existing Customer']\n",
    "category_colors = ['#5E18EB', '#A579FF']\n",
    "color_mapping = {'Attrited Customer': category_colors[0], 'Existing Customer': category_colors[1]}\n",
    "\n",
    "# Plot the histogram with LoanAmount on the x-axis and stacked Loan_Status\n",
    "fig = px.histogram(df,\n",
    "                   x=\"CardCat\",\n",
    "                   color=\"ExistingLost\",\n",
    "                   color_discrete_map=color_mapping,\n",
    "                   barmode='stack',\n",
    "                   labels={'CartCat': 'Card Category'},\n",
    "                   text_auto=True)\n",
    "\n",
    "# Update layout for centering the title and adjusting y-axis title\n",
    "fig.update_layout(title_x=0.5, yaxis_title='Count')\n",
    "fig.update_layout(title_text='')\n",
    "    \n",
    "with col3:\n",
    "\n",
    "    # Custom HTML for the title of the new chart\n",
    "    st.markdown(\"\"\"\n",
    "    <style>\n",
    "    .title {\n",
    "        font-size: small; \n",
    "        font-weight: bold;\n",
    "    }\n",
    "    </style>\n",
    "    <div class=\"title\">Stacked Distribution of Churned and Existing Customers by Card Category</div>\n",
    "    \"\"\", unsafe_allow_html=True)\n",
    "    \n",
    "    # Display the new histogram chart\n",
    "    st.plotly_chart(fig)"
   ]
  },
  {
   "cell_type": "code",
   "execution_count": 16,
   "id": "7fa5023d",
   "metadata": {},
   "outputs": [],
   "source": [
    "newdf = df.copy()"
   ]
  },
  {
   "cell_type": "code",
   "execution_count": 17,
   "id": "9916e16a",
   "metadata": {},
   "outputs": [],
   "source": [
    "le = LabelEncoder()\n",
    "categorical = ['ExistingLost', 'Gender', 'Education', 'Marital', 'Income', 'CardCat']\n",
    "for col in newdf[categorical]:\n",
    "    newdf[col]=le.fit_transform(newdf[col])"
   ]
  },
  {
   "cell_type": "code",
   "execution_count": 18,
   "id": "12f52afb",
   "metadata": {},
   "outputs": [],
   "source": [
    "#Create a StandardScaler object  \n",
    "scaler = StandardScaler() \n",
    "# Select the columns to be normalized  \n",
    "cols_to_norm = ['Age', 'Dependent', 'PeriodOfRelationship', 'TotalNumberProducts',\n",
    "       'MonthsInactive', 'ContactsCount', 'CreditLimit', 'TotalBal',\n",
    "       'AvgOpenToBuy', 'ChangeTransAmountQ4Q1', 'TotalTransAmt',\n",
    "       'TotalTransCountQ4Q1', 'ChangeTransCountQ4Q1', 'UtilRatio']\n",
    "# Fit the scaler to the selected columns and transform the data  \n",
    "newdf[cols_to_norm] = scaler.fit_transform(newdf[cols_to_norm])"
   ]
  },
  {
   "cell_type": "code",
   "execution_count": 19,
   "id": "678725fa",
   "metadata": {},
   "outputs": [],
   "source": [
    "from sklearn.ensemble import RandomForestClassifier\n",
    "from sklearn.model_selection import train_test_split \n",
    "from sklearn.metrics import classification_report\n",
    "from sklearn.metrics import confusion_matrix\n",
    "from matplotlib.colors import LinearSegmentedColormap\n",
    "from sklearn.model_selection import GridSearchCV\n",
    "import matplotlib.pyplot as plt\n",
    "from sklearn.metrics import accuracy_score, confusion_matrix, recall_score, f1_score, precision_score\n",
    "import seaborn as sns\n",
    "rfc = RandomForestClassifier()\n",
    "X = newdf.drop(columns=['ExistingLost']).values\n",
    "y = newdf['ExistingLost'].values\n",
    "# Split dataset into training set and test set\n",
    "X_train, X_test, y_train, y_test = train_test_split(X, y, test_size = 0.20, random_state = 38) # 80% training and 20% test"
   ]
  },
  {
   "cell_type": "code",
   "execution_count": 20,
   "id": "00c213ae",
   "metadata": {},
   "outputs": [
    {
     "data": {
      "text/html": [
       "<style>#sk-container-id-1 {color: black;}#sk-container-id-1 pre{padding: 0;}#sk-container-id-1 div.sk-toggleable {background-color: white;}#sk-container-id-1 label.sk-toggleable__label {cursor: pointer;display: block;width: 100%;margin-bottom: 0;padding: 0.3em;box-sizing: border-box;text-align: center;}#sk-container-id-1 label.sk-toggleable__label-arrow:before {content: \"▸\";float: left;margin-right: 0.25em;color: #696969;}#sk-container-id-1 label.sk-toggleable__label-arrow:hover:before {color: black;}#sk-container-id-1 div.sk-estimator:hover label.sk-toggleable__label-arrow:before {color: black;}#sk-container-id-1 div.sk-toggleable__content {max-height: 0;max-width: 0;overflow: hidden;text-align: left;background-color: #f0f8ff;}#sk-container-id-1 div.sk-toggleable__content pre {margin: 0.2em;color: black;border-radius: 0.25em;background-color: #f0f8ff;}#sk-container-id-1 input.sk-toggleable__control:checked~div.sk-toggleable__content {max-height: 200px;max-width: 100%;overflow: auto;}#sk-container-id-1 input.sk-toggleable__control:checked~label.sk-toggleable__label-arrow:before {content: \"▾\";}#sk-container-id-1 div.sk-estimator input.sk-toggleable__control:checked~label.sk-toggleable__label {background-color: #d4ebff;}#sk-container-id-1 div.sk-label input.sk-toggleable__control:checked~label.sk-toggleable__label {background-color: #d4ebff;}#sk-container-id-1 input.sk-hidden--visually {border: 0;clip: rect(1px 1px 1px 1px);clip: rect(1px, 1px, 1px, 1px);height: 1px;margin: -1px;overflow: hidden;padding: 0;position: absolute;width: 1px;}#sk-container-id-1 div.sk-estimator {font-family: monospace;background-color: #f0f8ff;border: 1px dotted black;border-radius: 0.25em;box-sizing: border-box;margin-bottom: 0.5em;}#sk-container-id-1 div.sk-estimator:hover {background-color: #d4ebff;}#sk-container-id-1 div.sk-parallel-item::after {content: \"\";width: 100%;border-bottom: 1px solid gray;flex-grow: 1;}#sk-container-id-1 div.sk-label:hover label.sk-toggleable__label {background-color: #d4ebff;}#sk-container-id-1 div.sk-serial::before {content: \"\";position: absolute;border-left: 1px solid gray;box-sizing: border-box;top: 0;bottom: 0;left: 50%;z-index: 0;}#sk-container-id-1 div.sk-serial {display: flex;flex-direction: column;align-items: center;background-color: white;padding-right: 0.2em;padding-left: 0.2em;position: relative;}#sk-container-id-1 div.sk-item {position: relative;z-index: 1;}#sk-container-id-1 div.sk-parallel {display: flex;align-items: stretch;justify-content: center;background-color: white;position: relative;}#sk-container-id-1 div.sk-item::before, #sk-container-id-1 div.sk-parallel-item::before {content: \"\";position: absolute;border-left: 1px solid gray;box-sizing: border-box;top: 0;bottom: 0;left: 50%;z-index: -1;}#sk-container-id-1 div.sk-parallel-item {display: flex;flex-direction: column;z-index: 1;position: relative;background-color: white;}#sk-container-id-1 div.sk-parallel-item:first-child::after {align-self: flex-end;width: 50%;}#sk-container-id-1 div.sk-parallel-item:last-child::after {align-self: flex-start;width: 50%;}#sk-container-id-1 div.sk-parallel-item:only-child::after {width: 0;}#sk-container-id-1 div.sk-dashed-wrapped {border: 1px dashed gray;margin: 0 0.4em 0.5em 0.4em;box-sizing: border-box;padding-bottom: 0.4em;background-color: white;}#sk-container-id-1 div.sk-label label {font-family: monospace;font-weight: bold;display: inline-block;line-height: 1.2em;}#sk-container-id-1 div.sk-label-container {text-align: center;}#sk-container-id-1 div.sk-container {/* jupyter's `normalize.less` sets `[hidden] { display: none; }` but bootstrap.min.css set `[hidden] { display: none !important; }` so we also need the `!important` here to be able to override the default hidden behavior on the sphinx rendered scikit-learn.org. See: https://github.com/scikit-learn/scikit-learn/issues/21755 */display: inline-block !important;position: relative;}#sk-container-id-1 div.sk-text-repr-fallback {display: none;}</style><div id=\"sk-container-id-1\" class=\"sk-top-container\"><div class=\"sk-text-repr-fallback\"><pre>RandomForestClassifier()</pre><b>In a Jupyter environment, please rerun this cell to show the HTML representation or trust the notebook. <br />On GitHub, the HTML representation is unable to render, please try loading this page with nbviewer.org.</b></div><div class=\"sk-container\" hidden><div class=\"sk-item\"><div class=\"sk-estimator sk-toggleable\"><input class=\"sk-toggleable__control sk-hidden--visually\" id=\"sk-estimator-id-1\" type=\"checkbox\" checked><label for=\"sk-estimator-id-1\" class=\"sk-toggleable__label sk-toggleable__label-arrow\">RandomForestClassifier</label><div class=\"sk-toggleable__content\"><pre>RandomForestClassifier()</pre></div></div></div></div></div>"
      ],
      "text/plain": [
       "RandomForestClassifier()"
      ]
     },
     "execution_count": 20,
     "metadata": {},
     "output_type": "execute_result"
    }
   ],
   "source": [
    "# fit\n",
    "rfc.fit(X_train,y_train)"
   ]
  },
  {
   "cell_type": "code",
   "execution_count": 21,
   "id": "d6ab1edb",
   "metadata": {},
   "outputs": [],
   "source": [
    "# Making predictions\n",
    "predictions = rfc.predict(X_test)"
   ]
  },
  {
   "cell_type": "code",
   "execution_count": 22,
   "id": "9ec49558",
   "metadata": {},
   "outputs": [
    {
     "name": "stdout",
     "output_type": "stream",
     "text": [
      "              precision    recall  f1-score   support\n",
      "\n",
      "           0       1.00      1.00      1.00       226\n",
      "           1       1.00      1.00      1.00      1191\n",
      "\n",
      "    accuracy                           1.00      1417\n",
      "   macro avg       1.00      1.00      1.00      1417\n",
      "weighted avg       1.00      1.00      1.00      1417\n",
      "\n"
     ]
    }
   ],
   "source": [
    "# Let's check the report of our default model\n",
    "print(classification_report(y_test,predictions))"
   ]
  },
  {
   "cell_type": "code",
   "execution_count": 23,
   "id": "ef53b6c1",
   "metadata": {},
   "outputs": [
    {
     "name": "stdout",
     "output_type": "stream",
     "text": [
      "Confusion Matrix:\n",
      "[[ 226    0]\n",
      " [   0 1191]]\n"
     ]
    },
    {
     "data": {
      "image/png": "[encoded data removed]",
      "text/plain": [
       "<Figure size 640x480 with 2 Axes>"
      ]
     },
     "metadata": {},
     "output_type": "display_data"
    },
    {
     "name": "stdout",
     "output_type": "stream",
     "text": [
      "Classification Report:\n",
      "              precision    recall  f1-score   support\n",
      "\n",
      "           0       1.00      1.00      1.00       226\n",
      "           1       1.00      1.00      1.00      1191\n",
      "\n",
      "    accuracy                           1.00      1417\n",
      "   macro avg       1.00      1.00      1.00      1417\n",
      "weighted avg       1.00      1.00      1.00      1417\n",
      "\n"
     ]
    }
   ],
   "source": [
    "# Calculate cm by calling a method named as 'confusion_matrix'\n",
    "cm = confusion_matrix(y_test, predictions)\n",
    "\n",
    "# Print the confusion matrix as plain text\n",
    "print(\"Confusion Matrix:\")\n",
    "print(cm)\n",
    "\n",
    "# Create a custom colormap using the desired color\n",
    "custom_cmap = LinearSegmentedColormap.from_list(\"custom_cmap\", [\"white\", \"#5E18EB\"])\n",
    "\n",
    "# Call a method heatmap() to plot confusion matrix with custom color map\n",
    "sns.heatmap(cm, annot=True, cmap=custom_cmap, fmt='d')\n",
    "\n",
    "# Set axis labels\n",
    "plt.xlabel('Predicted')\n",
    "plt.ylabel('True')\n",
    "\n",
    "# Show the plot\n",
    "plt.show()\n",
    "\n",
    "# Print the classification report\n",
    "print(\"Classification Report:\")\n",
    "print(classification_report(y_test, predictions))"
   ]
  },
  {
   "cell_type": "code",
   "execution_count": 24,
   "id": "d5a7a375",
   "metadata": {},
   "outputs": [
    {
     "name": "stdout",
     "output_type": "stream",
     "text": [
      "1.0\n"
     ]
    }
   ],
   "source": [
    "print(accuracy_score(y_test,predictions))"
   ]
  },
  {
   "cell_type": "code",
   "execution_count": 25,
   "id": "e28d5d6f",
   "metadata": {},
   "outputs": [
    {
     "data": {
      "text/html": [
       "<style>#sk-container-id-2 {color: black;}#sk-container-id-2 pre{padding: 0;}#sk-container-id-2 div.sk-toggleable {background-color: white;}#sk-container-id-2 label.sk-toggleable__label {cursor: pointer;display: block;width: 100%;margin-bottom: 0;padding: 0.3em;box-sizing: border-box;text-align: center;}#sk-container-id-2 label.sk-toggleable__label-arrow:before {content: \"▸\";float: left;margin-right: 0.25em;color: #696969;}#sk-container-id-2 label.sk-toggleable__label-arrow:hover:before {color: black;}#sk-container-id-2 div.sk-estimator:hover label.sk-toggleable__label-arrow:before {color: black;}#sk-container-id-2 div.sk-toggleable__content {max-height: 0;max-width: 0;overflow: hidden;text-align: left;background-color: #f0f8ff;}#sk-container-id-2 div.sk-toggleable__content pre {margin: 0.2em;color: black;border-radius: 0.25em;background-color: #f0f8ff;}#sk-container-id-2 input.sk-toggleable__control:checked~div.sk-toggleable__content {max-height: 200px;max-width: 100%;overflow: auto;}#sk-container-id-2 input.sk-toggleable__control:checked~label.sk-toggleable__label-arrow:before {content: \"▾\";}#sk-container-id-2 div.sk-estimator input.sk-toggleable__control:checked~label.sk-toggleable__label {background-color: #d4ebff;}#sk-container-id-2 div.sk-label input.sk-toggleable__control:checked~label.sk-toggleable__label {background-color: #d4ebff;}#sk-container-id-2 input.sk-hidden--visually {border: 0;clip: rect(1px 1px 1px 1px);clip: rect(1px, 1px, 1px, 1px);height: 1px;margin: -1px;overflow: hidden;padding: 0;position: absolute;width: 1px;}#sk-container-id-2 div.sk-estimator {font-family: monospace;background-color: #f0f8ff;border: 1px dotted black;border-radius: 0.25em;box-sizing: border-box;margin-bottom: 0.5em;}#sk-container-id-2 div.sk-estimator:hover {background-color: #d4ebff;}#sk-container-id-2 div.sk-parallel-item::after {content: \"\";width: 100%;border-bottom: 1px solid gray;flex-grow: 1;}#sk-container-id-2 div.sk-label:hover label.sk-toggleable__label {background-color: #d4ebff;}#sk-container-id-2 div.sk-serial::before {content: \"\";position: absolute;border-left: 1px solid gray;box-sizing: border-box;top: 0;bottom: 0;left: 50%;z-index: 0;}#sk-container-id-2 div.sk-serial {display: flex;flex-direction: column;align-items: center;background-color: white;padding-right: 0.2em;padding-left: 0.2em;position: relative;}#sk-container-id-2 div.sk-item {position: relative;z-index: 1;}#sk-container-id-2 div.sk-parallel {display: flex;align-items: stretch;justify-content: center;background-color: white;position: relative;}#sk-container-id-2 div.sk-item::before, #sk-container-id-2 div.sk-parallel-item::before {content: \"\";position: absolute;border-left: 1px solid gray;box-sizing: border-box;top: 0;bottom: 0;left: 50%;z-index: -1;}#sk-container-id-2 div.sk-parallel-item {display: flex;flex-direction: column;z-index: 1;position: relative;background-color: white;}#sk-container-id-2 div.sk-parallel-item:first-child::after {align-self: flex-end;width: 50%;}#sk-container-id-2 div.sk-parallel-item:last-child::after {align-self: flex-start;width: 50%;}#sk-container-id-2 div.sk-parallel-item:only-child::after {width: 0;}#sk-container-id-2 div.sk-dashed-wrapped {border: 1px dashed gray;margin: 0 0.4em 0.5em 0.4em;box-sizing: border-box;padding-bottom: 0.4em;background-color: white;}#sk-container-id-2 div.sk-label label {font-family: monospace;font-weight: bold;display: inline-block;line-height: 1.2em;}#sk-container-id-2 div.sk-label-container {text-align: center;}#sk-container-id-2 div.sk-container {/* jupyter's `normalize.less` sets `[hidden] { display: none; }` but bootstrap.min.css set `[hidden] { display: none !important; }` so we also need the `!important` here to be able to override the default hidden behavior on the sphinx rendered scikit-learn.org. See: https://github.com/scikit-learn/scikit-learn/issues/21755 */display: inline-block !important;position: relative;}#sk-container-id-2 div.sk-text-repr-fallback {display: none;}</style><div id=\"sk-container-id-2\" class=\"sk-top-container\"><div class=\"sk-text-repr-fallback\"><pre>GridSearchCV(cv=5, estimator=RandomForestClassifier(),\n",
       "             param_grid={&#x27;max_depth&#x27;: range(2, 20, 5)}, scoring=&#x27;accuracy&#x27;)</pre><b>In a Jupyter environment, please rerun this cell to show the HTML representation or trust the notebook. <br />On GitHub, the HTML representation is unable to render, please try loading this page with nbviewer.org.</b></div><div class=\"sk-container\" hidden><div class=\"sk-item sk-dashed-wrapped\"><div class=\"sk-label-container\"><div class=\"sk-label sk-toggleable\"><input class=\"sk-toggleable__control sk-hidden--visually\" id=\"sk-estimator-id-2\" type=\"checkbox\" ><label for=\"sk-estimator-id-2\" class=\"sk-toggleable__label sk-toggleable__label-arrow\">GridSearchCV</label><div class=\"sk-toggleable__content\"><pre>GridSearchCV(cv=5, estimator=RandomForestClassifier(),\n",
       "             param_grid={&#x27;max_depth&#x27;: range(2, 20, 5)}, scoring=&#x27;accuracy&#x27;)</pre></div></div></div><div class=\"sk-parallel\"><div class=\"sk-parallel-item\"><div class=\"sk-item\"><div class=\"sk-label-container\"><div class=\"sk-label sk-toggleable\"><input class=\"sk-toggleable__control sk-hidden--visually\" id=\"sk-estimator-id-3\" type=\"checkbox\" ><label for=\"sk-estimator-id-3\" class=\"sk-toggleable__label sk-toggleable__label-arrow\">estimator: RandomForestClassifier</label><div class=\"sk-toggleable__content\"><pre>RandomForestClassifier()</pre></div></div></div><div class=\"sk-serial\"><div class=\"sk-item\"><div class=\"sk-estimator sk-toggleable\"><input class=\"sk-toggleable__control sk-hidden--visually\" id=\"sk-estimator-id-4\" type=\"checkbox\" ><label for=\"sk-estimator-id-4\" class=\"sk-toggleable__label sk-toggleable__label-arrow\">RandomForestClassifier</label><div class=\"sk-toggleable__content\"><pre>RandomForestClassifier()</pre></div></div></div></div></div></div></div></div></div></div>"
      ],
      "text/plain": [
       "GridSearchCV(cv=5, estimator=RandomForestClassifier(),\n",
       "             param_grid={'max_depth': range(2, 20, 5)}, scoring='accuracy')"
      ]
     },
     "execution_count": 25,
     "metadata": {},
     "output_type": "execute_result"
    }
   ],
   "source": [
    "#Grid sear and Kfold\n",
    "\n",
    "# specify number of folds for k-fold CV\n",
    "n_folds = 5\n",
    "\n",
    "# parameters to build the model on\n",
    "parameters = {'max_depth': range(2, 20, 5)}\n",
    "\n",
    "# instantiate the model\n",
    "rf = RandomForestClassifier()\n",
    "\n",
    "\n",
    "# fit tree on training data\n",
    "rf = GridSearchCV(rf, parameters, \n",
    "                    cv=n_folds, \n",
    "                   scoring=\"accuracy\")\n",
    "rf.fit(X_train, y_train)"
   ]
  },
  {
   "cell_type": "code",
   "execution_count": 26,
   "id": "0beeed74",
   "metadata": {},
   "outputs": [
    {
     "data": {
      "text/html": [
       "<div>\n",
       "<style scoped>\n",
       "    .dataframe tbody tr th:only-of-type {\n",
       "        vertical-align: middle;\n",
       "    }\n",
       "\n",
       "    .dataframe tbody tr th {\n",
       "        vertical-align: top;\n",
       "    }\n",
       "\n",
       "    .dataframe thead th {\n",
       "        text-align: right;\n",
       "    }\n",
       "</style>\n",
       "<table border=\"1\" class=\"dataframe\">\n",
       "  <thead>\n",
       "    <tr style=\"text-align: right;\">\n",
       "      <th></th>\n",
       "      <th>mean_fit_time</th>\n",
       "      <th>std_fit_time</th>\n",
       "      <th>mean_score_time</th>\n",
       "      <th>std_score_time</th>\n",
       "      <th>param_max_depth</th>\n",
       "      <th>params</th>\n",
       "      <th>split0_test_score</th>\n",
       "      <th>split1_test_score</th>\n",
       "      <th>split2_test_score</th>\n",
       "      <th>split3_test_score</th>\n",
       "      <th>split4_test_score</th>\n",
       "      <th>mean_test_score</th>\n",
       "      <th>std_test_score</th>\n",
       "      <th>rank_test_score</th>\n",
       "    </tr>\n",
       "  </thead>\n",
       "  <tbody>\n",
       "    <tr>\n",
       "      <th>0</th>\n",
       "      <td>0.148154</td>\n",
       "      <td>0.004958</td>\n",
       "      <td>0.005550</td>\n",
       "      <td>0.000218</td>\n",
       "      <td>2</td>\n",
       "      <td>{'max_depth': 2}</td>\n",
       "      <td>0.970874</td>\n",
       "      <td>0.968226</td>\n",
       "      <td>0.927626</td>\n",
       "      <td>0.951456</td>\n",
       "      <td>0.94523</td>\n",
       "      <td>0.952682</td>\n",
       "      <td>0.015858</td>\n",
       "      <td>4</td>\n",
       "    </tr>\n",
       "    <tr>\n",
       "      <th>1</th>\n",
       "      <td>0.243504</td>\n",
       "      <td>0.007456</td>\n",
       "      <td>0.006648</td>\n",
       "      <td>0.000220</td>\n",
       "      <td>7</td>\n",
       "      <td>{'max_depth': 7}</td>\n",
       "      <td>1.000000</td>\n",
       "      <td>1.000000</td>\n",
       "      <td>1.000000</td>\n",
       "      <td>1.000000</td>\n",
       "      <td>1.00000</td>\n",
       "      <td>1.000000</td>\n",
       "      <td>0.000000</td>\n",
       "      <td>1</td>\n",
       "    </tr>\n",
       "    <tr>\n",
       "      <th>2</th>\n",
       "      <td>0.262260</td>\n",
       "      <td>0.009546</td>\n",
       "      <td>0.006760</td>\n",
       "      <td>0.000124</td>\n",
       "      <td>12</td>\n",
       "      <td>{'max_depth': 12}</td>\n",
       "      <td>1.000000</td>\n",
       "      <td>1.000000</td>\n",
       "      <td>1.000000</td>\n",
       "      <td>1.000000</td>\n",
       "      <td>1.00000</td>\n",
       "      <td>1.000000</td>\n",
       "      <td>0.000000</td>\n",
       "      <td>1</td>\n",
       "    </tr>\n",
       "    <tr>\n",
       "      <th>3</th>\n",
       "      <td>0.282069</td>\n",
       "      <td>0.026629</td>\n",
       "      <td>0.010242</td>\n",
       "      <td>0.006461</td>\n",
       "      <td>17</td>\n",
       "      <td>{'max_depth': 17}</td>\n",
       "      <td>1.000000</td>\n",
       "      <td>1.000000</td>\n",
       "      <td>1.000000</td>\n",
       "      <td>1.000000</td>\n",
       "      <td>1.00000</td>\n",
       "      <td>1.000000</td>\n",
       "      <td>0.000000</td>\n",
       "      <td>1</td>\n",
       "    </tr>\n",
       "  </tbody>\n",
       "</table>\n",
       "</div>"
      ],
      "text/plain": [
       "   mean_fit_time  std_fit_time  mean_score_time  std_score_time  \\\n",
       "0       0.148154      0.004958         0.005550        0.000218   \n",
       "1       0.243504      0.007456         0.006648        0.000220   \n",
       "2       0.262260      0.009546         0.006760        0.000124   \n",
       "3       0.282069      0.026629         0.010242        0.006461   \n",
       "\n",
       "  param_max_depth             params  split0_test_score  split1_test_score  \\\n",
       "0               2   {'max_depth': 2}           0.970874           0.968226   \n",
       "1               7   {'max_depth': 7}           1.000000           1.000000   \n",
       "2              12  {'max_depth': 12}           1.000000           1.000000   \n",
       "3              17  {'max_depth': 17}           1.000000           1.000000   \n",
       "\n",
       "   split2_test_score  split3_test_score  split4_test_score  mean_test_score  \\\n",
       "0           0.927626           0.951456            0.94523         0.952682   \n",
       "1           1.000000           1.000000            1.00000         1.000000   \n",
       "2           1.000000           1.000000            1.00000         1.000000   \n",
       "3           1.000000           1.000000            1.00000         1.000000   \n",
       "\n",
       "   std_test_score  rank_test_score  \n",
       "0        0.015858                4  \n",
       "1        0.000000                1  \n",
       "2        0.000000                1  \n",
       "3        0.000000                1  "
      ]
     },
     "execution_count": 26,
     "metadata": {},
     "output_type": "execute_result"
    }
   ],
   "source": [
    "# scores of GridSearch CV\n",
    "scores = rf.cv_results_\n",
    "pd.DataFrame(scores).head()"
   ]
  },
  {
   "cell_type": "code",
   "execution_count": 27,
   "id": "69361815",
   "metadata": {},
   "outputs": [
    {
     "data": {
      "image/png": "[encoded data removed]",
      "text/plain": [
       "<Figure size 640x480 with 1 Axes>"
      ]
     },
     "metadata": {},
     "output_type": "display_data"
    }
   ],
   "source": [
    "# Replace the following line with your actual scores data\n",
    "scores = {'param_max_depth': list(range(1, 11)), 'mean_test_score': [0.6, 0.7, 0.75, 0.78, 0.8, 0.81, 0.82, 0.83, 0.82, 0.81]}\n",
    "\n",
    "# Define your theme color\n",
    "theme_color = \"#5E18EB\"\n",
    "\n",
    "# Plotting accuracies with max_depth\n",
    "plt.figure()\n",
    "plt.plot(scores[\"param_max_depth\"],\n",
    "         scores[\"mean_test_score\"],\n",
    "         label=\"test accuracy\",\n",
    "         c=theme_color)\n",
    "plt.xlabel(\"max_depth\")\n",
    "plt.ylabel(\"Accuracy\")\n",
    "plt.legend()\n",
    "plt.show()"
   ]
  },
  {
   "cell_type": "code",
   "execution_count": 28,
   "id": "272af4ba",
   "metadata": {},
   "outputs": [],
   "source": [
    "# Create the parameter grid based on the results of random search \n",
    "param_grid = {\n",
    "    'max_depth': [4,8,10],\n",
    "    'min_samples_leaf': range(100, 400, 200),\n",
    "    'min_samples_split': range(200, 500, 200),\n",
    "    'n_estimators': [100,200, 300], \n",
    "    'max_features': [5, 10]\n",
    "}\n",
    "# Create a based model\n",
    "rf = RandomForestClassifier()\n",
    "# Instantiate the grid search model\n",
    "grid_search = GridSearchCV(estimator = rf, param_grid = param_grid, \n",
    "                          cv = 3, n_jobs = -1,verbose = 1)"
   ]
  },
  {
   "cell_type": "code",
   "execution_count": 29,
   "id": "9ac94968",
   "metadata": {},
   "outputs": [
    {
     "name": "stdout",
     "output_type": "stream",
     "text": [
      "Fitting 3 folds for each of 72 candidates, totalling 216 fits\n"
     ]
    },
    {
     "data": {
      "text/html": [
       "<style>#sk-container-id-3 {color: black;}#sk-container-id-3 pre{padding: 0;}#sk-container-id-3 div.sk-toggleable {background-color: white;}#sk-container-id-3 label.sk-toggleable__label {cursor: pointer;display: block;width: 100%;margin-bottom: 0;padding: 0.3em;box-sizing: border-box;text-align: center;}#sk-container-id-3 label.sk-toggleable__label-arrow:before {content: \"▸\";float: left;margin-right: 0.25em;color: #696969;}#sk-container-id-3 label.sk-toggleable__label-arrow:hover:before {color: black;}#sk-container-id-3 div.sk-estimator:hover label.sk-toggleable__label-arrow:before {color: black;}#sk-container-id-3 div.sk-toggleable__content {max-height: 0;max-width: 0;overflow: hidden;text-align: left;background-color: #f0f8ff;}#sk-container-id-3 div.sk-toggleable__content pre {margin: 0.2em;color: black;border-radius: 0.25em;background-color: #f0f8ff;}#sk-container-id-3 input.sk-toggleable__control:checked~div.sk-toggleable__content {max-height: 200px;max-width: 100%;overflow: auto;}#sk-container-id-3 input.sk-toggleable__control:checked~label.sk-toggleable__label-arrow:before {content: \"▾\";}#sk-container-id-3 div.sk-estimator input.sk-toggleable__control:checked~label.sk-toggleable__label {background-color: #d4ebff;}#sk-container-id-3 div.sk-label input.sk-toggleable__control:checked~label.sk-toggleable__label {background-color: #d4ebff;}#sk-container-id-3 input.sk-hidden--visually {border: 0;clip: rect(1px 1px 1px 1px);clip: rect(1px, 1px, 1px, 1px);height: 1px;margin: -1px;overflow: hidden;padding: 0;position: absolute;width: 1px;}#sk-container-id-3 div.sk-estimator {font-family: monospace;background-color: #f0f8ff;border: 1px dotted black;border-radius: 0.25em;box-sizing: border-box;margin-bottom: 0.5em;}#sk-container-id-3 div.sk-estimator:hover {background-color: #d4ebff;}#sk-container-id-3 div.sk-parallel-item::after {content: \"\";width: 100%;border-bottom: 1px solid gray;flex-grow: 1;}#sk-container-id-3 div.sk-label:hover label.sk-toggleable__label {background-color: #d4ebff;}#sk-container-id-3 div.sk-serial::before {content: \"\";position: absolute;border-left: 1px solid gray;box-sizing: border-box;top: 0;bottom: 0;left: 50%;z-index: 0;}#sk-container-id-3 div.sk-serial {display: flex;flex-direction: column;align-items: center;background-color: white;padding-right: 0.2em;padding-left: 0.2em;position: relative;}#sk-container-id-3 div.sk-item {position: relative;z-index: 1;}#sk-container-id-3 div.sk-parallel {display: flex;align-items: stretch;justify-content: center;background-color: white;position: relative;}#sk-container-id-3 div.sk-item::before, #sk-container-id-3 div.sk-parallel-item::before {content: \"\";position: absolute;border-left: 1px solid gray;box-sizing: border-box;top: 0;bottom: 0;left: 50%;z-index: -1;}#sk-container-id-3 div.sk-parallel-item {display: flex;flex-direction: column;z-index: 1;position: relative;background-color: white;}#sk-container-id-3 div.sk-parallel-item:first-child::after {align-self: flex-end;width: 50%;}#sk-container-id-3 div.sk-parallel-item:last-child::after {align-self: flex-start;width: 50%;}#sk-container-id-3 div.sk-parallel-item:only-child::after {width: 0;}#sk-container-id-3 div.sk-dashed-wrapped {border: 1px dashed gray;margin: 0 0.4em 0.5em 0.4em;box-sizing: border-box;padding-bottom: 0.4em;background-color: white;}#sk-container-id-3 div.sk-label label {font-family: monospace;font-weight: bold;display: inline-block;line-height: 1.2em;}#sk-container-id-3 div.sk-label-container {text-align: center;}#sk-container-id-3 div.sk-container {/* jupyter's `normalize.less` sets `[hidden] { display: none; }` but bootstrap.min.css set `[hidden] { display: none !important; }` so we also need the `!important` here to be able to override the default hidden behavior on the sphinx rendered scikit-learn.org. See: https://github.com/scikit-learn/scikit-learn/issues/21755 */display: inline-block !important;position: relative;}#sk-container-id-3 div.sk-text-repr-fallback {display: none;}</style><div id=\"sk-container-id-3\" class=\"sk-top-container\"><div class=\"sk-text-repr-fallback\"><pre>GridSearchCV(cv=3, estimator=RandomForestClassifier(), n_jobs=-1,\n",
       "             param_grid={&#x27;max_depth&#x27;: [4, 8, 10], &#x27;max_features&#x27;: [5, 10],\n",
       "                         &#x27;min_samples_leaf&#x27;: range(100, 400, 200),\n",
       "                         &#x27;min_samples_split&#x27;: range(200, 500, 200),\n",
       "                         &#x27;n_estimators&#x27;: [100, 200, 300]},\n",
       "             verbose=1)</pre><b>In a Jupyter environment, please rerun this cell to show the HTML representation or trust the notebook. <br />On GitHub, the HTML representation is unable to render, please try loading this page with nbviewer.org.</b></div><div class=\"sk-container\" hidden><div class=\"sk-item sk-dashed-wrapped\"><div class=\"sk-label-container\"><div class=\"sk-label sk-toggleable\"><input class=\"sk-toggleable__control sk-hidden--visually\" id=\"sk-estimator-id-5\" type=\"checkbox\" ><label for=\"sk-estimator-id-5\" class=\"sk-toggleable__label sk-toggleable__label-arrow\">GridSearchCV</label><div class=\"sk-toggleable__content\"><pre>GridSearchCV(cv=3, estimator=RandomForestClassifier(), n_jobs=-1,\n",
       "             param_grid={&#x27;max_depth&#x27;: [4, 8, 10], &#x27;max_features&#x27;: [5, 10],\n",
       "                         &#x27;min_samples_leaf&#x27;: range(100, 400, 200),\n",
       "                         &#x27;min_samples_split&#x27;: range(200, 500, 200),\n",
       "                         &#x27;n_estimators&#x27;: [100, 200, 300]},\n",
       "             verbose=1)</pre></div></div></div><div class=\"sk-parallel\"><div class=\"sk-parallel-item\"><div class=\"sk-item\"><div class=\"sk-label-container\"><div class=\"sk-label sk-toggleable\"><input class=\"sk-toggleable__control sk-hidden--visually\" id=\"sk-estimator-id-6\" type=\"checkbox\" ><label for=\"sk-estimator-id-6\" class=\"sk-toggleable__label sk-toggleable__label-arrow\">estimator: RandomForestClassifier</label><div class=\"sk-toggleable__content\"><pre>RandomForestClassifier()</pre></div></div></div><div class=\"sk-serial\"><div class=\"sk-item\"><div class=\"sk-estimator sk-toggleable\"><input class=\"sk-toggleable__control sk-hidden--visually\" id=\"sk-estimator-id-7\" type=\"checkbox\" ><label for=\"sk-estimator-id-7\" class=\"sk-toggleable__label sk-toggleable__label-arrow\">RandomForestClassifier</label><div class=\"sk-toggleable__content\"><pre>RandomForestClassifier()</pre></div></div></div></div></div></div></div></div></div></div>"
      ],
      "text/plain": [
       "GridSearchCV(cv=3, estimator=RandomForestClassifier(), n_jobs=-1,\n",
       "             param_grid={'max_depth': [4, 8, 10], 'max_features': [5, 10],\n",
       "                         'min_samples_leaf': range(100, 400, 200),\n",
       "                         'min_samples_split': range(200, 500, 200),\n",
       "                         'n_estimators': [100, 200, 300]},\n",
       "             verbose=1)"
      ]
     },
     "execution_count": 29,
     "metadata": {},
     "output_type": "execute_result"
    }
   ],
   "source": [
    "# Fit the grid search to the data\n",
    "grid_search.fit(X_train, y_train)"
   ]
  },
  {
   "cell_type": "code",
   "execution_count": 30,
   "id": "619c5244",
   "metadata": {},
   "outputs": [
    {
     "name": "stdout",
     "output_type": "stream",
     "text": [
      "We can get accuracy of 1.0 using {'max_depth': 4, 'max_features': 10, 'min_samples_leaf': 100, 'min_samples_split': 200, 'n_estimators': 100}\n"
     ]
    }
   ],
   "source": [
    "# printing the optimal accuracy score and hyperparameters\n",
    "print('We can get accuracy of',grid_search.best_score_,'using',grid_search.best_params_)"
   ]
  },
  {
   "cell_type": "code",
   "execution_count": 31,
   "id": "0c003bc2",
   "metadata": {},
   "outputs": [],
   "source": [
    "# model with the best hyperparameters\n",
    "from sklearn.ensemble import RandomForestClassifier\n",
    "rfc = RandomForestClassifier(bootstrap=True,\n",
    "                             max_depth=10,\n",
    "                             min_samples_leaf=100, \n",
    "                             min_samples_split=200,\n",
    "                             max_features=10,\n",
    "                             n_estimators=100)"
   ]
  },
  {
   "cell_type": "code",
   "execution_count": 32,
   "id": "10c76d1c",
   "metadata": {},
   "outputs": [
    {
     "data": {
      "text/html": [
       "<style>#sk-container-id-4 {color: black;}#sk-container-id-4 pre{padding: 0;}#sk-container-id-4 div.sk-toggleable {background-color: white;}#sk-container-id-4 label.sk-toggleable__label {cursor: pointer;display: block;width: 100%;margin-bottom: 0;padding: 0.3em;box-sizing: border-box;text-align: center;}#sk-container-id-4 label.sk-toggleable__label-arrow:before {content: \"▸\";float: left;margin-right: 0.25em;color: #696969;}#sk-container-id-4 label.sk-toggleable__label-arrow:hover:before {color: black;}#sk-container-id-4 div.sk-estimator:hover label.sk-toggleable__label-arrow:before {color: black;}#sk-container-id-4 div.sk-toggleable__content {max-height: 0;max-width: 0;overflow: hidden;text-align: left;background-color: #f0f8ff;}#sk-container-id-4 div.sk-toggleable__content pre {margin: 0.2em;color: black;border-radius: 0.25em;background-color: #f0f8ff;}#sk-container-id-4 input.sk-toggleable__control:checked~div.sk-toggleable__content {max-height: 200px;max-width: 100%;overflow: auto;}#sk-container-id-4 input.sk-toggleable__control:checked~label.sk-toggleable__label-arrow:before {content: \"▾\";}#sk-container-id-4 div.sk-estimator input.sk-toggleable__control:checked~label.sk-toggleable__label {background-color: #d4ebff;}#sk-container-id-4 div.sk-label input.sk-toggleable__control:checked~label.sk-toggleable__label {background-color: #d4ebff;}#sk-container-id-4 input.sk-hidden--visually {border: 0;clip: rect(1px 1px 1px 1px);clip: rect(1px, 1px, 1px, 1px);height: 1px;margin: -1px;overflow: hidden;padding: 0;position: absolute;width: 1px;}#sk-container-id-4 div.sk-estimator {font-family: monospace;background-color: #f0f8ff;border: 1px dotted black;border-radius: 0.25em;box-sizing: border-box;margin-bottom: 0.5em;}#sk-container-id-4 div.sk-estimator:hover {background-color: #d4ebff;}#sk-container-id-4 div.sk-parallel-item::after {content: \"\";width: 100%;border-bottom: 1px solid gray;flex-grow: 1;}#sk-container-id-4 div.sk-label:hover label.sk-toggleable__label {background-color: #d4ebff;}#sk-container-id-4 div.sk-serial::before {content: \"\";position: absolute;border-left: 1px solid gray;box-sizing: border-box;top: 0;bottom: 0;left: 50%;z-index: 0;}#sk-container-id-4 div.sk-serial {display: flex;flex-direction: column;align-items: center;background-color: white;padding-right: 0.2em;padding-left: 0.2em;position: relative;}#sk-container-id-4 div.sk-item {position: relative;z-index: 1;}#sk-container-id-4 div.sk-parallel {display: flex;align-items: stretch;justify-content: center;background-color: white;position: relative;}#sk-container-id-4 div.sk-item::before, #sk-container-id-4 div.sk-parallel-item::before {content: \"\";position: absolute;border-left: 1px solid gray;box-sizing: border-box;top: 0;bottom: 0;left: 50%;z-index: -1;}#sk-container-id-4 div.sk-parallel-item {display: flex;flex-direction: column;z-index: 1;position: relative;background-color: white;}#sk-container-id-4 div.sk-parallel-item:first-child::after {align-self: flex-end;width: 50%;}#sk-container-id-4 div.sk-parallel-item:last-child::after {align-self: flex-start;width: 50%;}#sk-container-id-4 div.sk-parallel-item:only-child::after {width: 0;}#sk-container-id-4 div.sk-dashed-wrapped {border: 1px dashed gray;margin: 0 0.4em 0.5em 0.4em;box-sizing: border-box;padding-bottom: 0.4em;background-color: white;}#sk-container-id-4 div.sk-label label {font-family: monospace;font-weight: bold;display: inline-block;line-height: 1.2em;}#sk-container-id-4 div.sk-label-container {text-align: center;}#sk-container-id-4 div.sk-container {/* jupyter's `normalize.less` sets `[hidden] { display: none; }` but bootstrap.min.css set `[hidden] { display: none !important; }` so we also need the `!important` here to be able to override the default hidden behavior on the sphinx rendered scikit-learn.org. See: https://github.com/scikit-learn/scikit-learn/issues/21755 */display: inline-block !important;position: relative;}#sk-container-id-4 div.sk-text-repr-fallback {display: none;}</style><div id=\"sk-container-id-4\" class=\"sk-top-container\"><div class=\"sk-text-repr-fallback\"><pre>RandomForestClassifier(max_depth=10, max_features=10, min_samples_leaf=100,\n",
       "                       min_samples_split=200)</pre><b>In a Jupyter environment, please rerun this cell to show the HTML representation or trust the notebook. <br />On GitHub, the HTML representation is unable to render, please try loading this page with nbviewer.org.</b></div><div class=\"sk-container\" hidden><div class=\"sk-item\"><div class=\"sk-estimator sk-toggleable\"><input class=\"sk-toggleable__control sk-hidden--visually\" id=\"sk-estimator-id-8\" type=\"checkbox\" checked><label for=\"sk-estimator-id-8\" class=\"sk-toggleable__label sk-toggleable__label-arrow\">RandomForestClassifier</label><div class=\"sk-toggleable__content\"><pre>RandomForestClassifier(max_depth=10, max_features=10, min_samples_leaf=100,\n",
       "                       min_samples_split=200)</pre></div></div></div></div></div>"
      ],
      "text/plain": [
       "RandomForestClassifier(max_depth=10, max_features=10, min_samples_leaf=100,\n",
       "                       min_samples_split=200)"
      ]
     },
     "execution_count": 32,
     "metadata": {},
     "output_type": "execute_result"
    }
   ],
   "source": [
    "# fit\n",
    "rfc.fit(X_train,y_train)"
   ]
  },
  {
   "cell_type": "code",
   "execution_count": 33,
   "id": "ed54d348",
   "metadata": {},
   "outputs": [],
   "source": [
    "# predict\n",
    "predictions = rfc.predict(X_test)"
   ]
  },
  {
   "cell_type": "code",
   "execution_count": 34,
   "id": "08e0aa49",
   "metadata": {},
   "outputs": [
    {
     "name": "stdout",
     "output_type": "stream",
     "text": [
      "              precision    recall  f1-score   support\n",
      "\n",
      "           0       1.00      1.00      1.00       226\n",
      "           1       1.00      1.00      1.00      1191\n",
      "\n",
      "    accuracy                           1.00      1417\n",
      "   macro avg       1.00      1.00      1.00      1417\n",
      "weighted avg       1.00      1.00      1.00      1417\n",
      "\n"
     ]
    }
   ],
   "source": [
    "print(classification_report(y_test,predictions))"
   ]
  },
  {
   "cell_type": "code",
   "execution_count": 35,
   "id": "772fb426",
   "metadata": {},
   "outputs": [
    {
     "name": "stdout",
     "output_type": "stream",
     "text": [
      "Confusion Matrix:\n",
      "[[ 226    0]\n",
      " [   0 1191]]\n"
     ]
    },
    {
     "data": {
      "image/png": "[encoded data removed]",
      "text/plain": [
       "<Figure size 640x480 with 2 Axes>"
      ]
     },
     "metadata": {},
     "output_type": "display_data"
    },
    {
     "data": {
      "image/png": "[encoded data removed]",
      "text/plain": [
       "<Figure size 640x480 with 2 Axes>"
      ]
     },
     "metadata": {},
     "output_type": "display_data"
    }
   ],
   "source": [
    "# Calculate cm by calling a method named as 'confusion_matrix'\n",
    "cm = confusion_matrix(y_test, predictions)\n",
    "\n",
    "# Print the confusion matrix as plain text\n",
    "print(\"Confusion Matrix:\")\n",
    "print(cm)\n",
    "\n",
    "# Create a custom colormap using the desired color\n",
    "custom_cmap = LinearSegmentedColormap.from_list(\"custom_cmap\", [\"white\", \"#5E18EB\"])\n",
    "\n",
    "# Create matplotlib figure and plot confusion matrix\n",
    "fig, ax = plt.subplots()\n",
    "sns.heatmap(cm, annot=True, cmap=custom_cmap, fmt='d', ax=ax)\n",
    "\n",
    "ax.set(xlabel=\"Predicted\", ylabel=\"True\")\n",
    "\n",
    "# Create matplotlib figure and plot confusion matrix\n",
    "fig, ax = plt.subplots()\n",
    "sns.heatmap(cm, annot=True, cmap=custom_cmap, fmt='d', ax=ax)\n",
    "\n",
    "# Add labels to axes\n",
    "ax.set(xlabel=\"Predicted\", ylabel=\"True\") \n",
    "\n",
    "with col2:\n",
    "\n",
    "    # Custom HTML for the title of the new chart\n",
    "    st.markdown(\"\"\"\n",
    "    <style>\n",
    "    .title {\n",
    "        font-size: small; \n",
    "        font-weight: bold;\n",
    "    }\n",
    "    </style>\n",
    "    <div class=\"title\">Random Forest Classification - Prediction of Churned Customers</div>\n",
    "    \"\"\", unsafe_allow_html=True)\n",
    "    \n",
    "    # Show figure in Streamlit\n",
    "    st.pyplot(fig)"
   ]
  },
  {
   "cell_type": "code",
   "execution_count": 36,
   "id": "9d04227b",
   "metadata": {},
   "outputs": [
    {
     "name": "stdout",
     "output_type": "stream",
     "text": [
      "1.0\n"
     ]
    }
   ],
   "source": [
    "print(accuracy_score(y_test,predictions))"
   ]
  },
  {
   "cell_type": "code",
   "execution_count": 37,
   "id": "21e01d41",
   "metadata": {},
   "outputs": [],
   "source": [
    "with col3:\n",
    "\n",
    "    # Custom HTML for the title of the new chart\n",
    "    st.markdown(\"\"\"\n",
    "    <style>\n",
    "    .title {\n",
    "        font-size: small; \n",
    "        font-weight: bold;\n",
    "    }\n",
    "    </style>\n",
    "    <div class=\"title\">Random Forest Classification Prediction Accuracy Score</div>\n",
    "    <div style=\"color: #5E18EB; font-size: 96px; text-align: center;\">1</div>\n",
    "    \"\"\", unsafe_allow_html=True)"
   ]
  },
  {
   "cell_type": "code",
   "execution_count": 38,
   "id": "be15a37f",
   "metadata": {},
   "outputs": [
    {
     "data": {
      "text/plain": [
       "False"
      ]
     },
     "execution_count": 38,
     "metadata": {},
     "output_type": "execute_result"
    }
   ],
   "source": [
    "csv = df.to_csv(index=False).encode('utf-8')\n",
    "st.download_button('Download Data', data=csv, file_name='Data.csv', mime='text/csv')"
   ]
  }
 ],
 "metadata": {
  "kernelspec": {
   "display_name": "Python 3 (ipykernel)",
   "language": "python",
   "name": "python3"
  },
  "language_info": {
   "codemirror_mode": {
    "name": "ipython",
    "version": 3
   },
   "file_extension": ".py",
   "mimetype": "text/x-python",
   "name": "python",
   "nbconvert_exporter": "python",
   "pygments_lexer": "ipython3",
   "version": "3.10.9"
  }
 },
 "nbformat": 4,
 "nbformat_minor": 5
}
